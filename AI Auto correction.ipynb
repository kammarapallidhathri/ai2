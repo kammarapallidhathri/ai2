{
 "cells": [
  {
   "cell_type": "code",
   "execution_count": 3,
   "id": "b8d2c5ba",
   "metadata": {},
   "outputs": [
    {
     "name": "stdout",
     "output_type": "stream",
     "text": [
      "Original word: corct\n",
      "Corrected word: correct\n"
     ]
    }
   ],
   "source": [
    "import difflib\n",
    "\n",
    "# List of words to use for autocorrection\n",
    "word_list = [\"task\", \"correct\", \"nearest\", \"Jupyter\", \"notebook\", \"code\"]\n",
    "\n",
    "def autocorrect(input_word, word_list):\n",
    "    corrected_word = difflib.get_close_matches(input_word, word_list, n=1, cutoff=0.7)\n",
    "    if corrected_word:\n",
    "        return corrected_word[0]\n",
    "    else:\n",
    "        return \"No suggestion found\"\n",
    "\n",
    "# Input word to be autocorrected\n",
    "input_word = \"corct\"\n",
    "\n",
    "corrected_word = autocorrect(input_word, word_list)\n",
    "print(f\"Original word: {input_word}\")\n",
    "print(f\"Corrected word: {corrected_word}\")\n",
    "\n",
    "\n",
    "\n",
    "\n"
   ]
  },
  {
   "cell_type": "code",
   "execution_count": null,
   "id": "e6a3ae65",
   "metadata": {},
   "outputs": [],
   "source": []
  }
 ],
 "metadata": {
  "kernelspec": {
   "display_name": "Python 3 (ipykernel)",
   "language": "python",
   "name": "python3"
  },
  "language_info": {
   "codemirror_mode": {
    "name": "ipython",
    "version": 3
   },
   "file_extension": ".py",
   "mimetype": "text/x-python",
   "name": "python",
   "nbconvert_exporter": "python",
   "pygments_lexer": "ipython3",
   "version": "3.9.13"
  }
 },
 "nbformat": 4,
 "nbformat_minor": 5
}
